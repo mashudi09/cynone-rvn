{
  "nbformat": 4,
  "nbformat_minor": 0,
  "metadata": {
    "colab": {
      "name": "ETH.ipynb",
      "private_outputs": true,
      "provenance": [],
      "collapsed_sections": [],
      "machine_shape": "hm"
    },
    "kernelspec": {
      "name": "python3",
      "display_name": "Python 3"
    },
    "accelerator": "GPU"
  },
  "cells": [
    {
      "cell_type": "markdown",
      "metadata": {
        "id": "8uQ12Gz6ZzCb"
      },
      "source": [
        "# **Ether**\n",
        "\n",
        "\n"
      ]
    },
    {
      "cell_type": "code",
      "metadata": {
        "id": "cY1YjeXzZWkA"
      },
      "source": [
        "!nvidia-smi"
      ],
      "execution_count": null,
      "outputs": []
    },
    {
      "cell_type": "code",
      "metadata": {
        "id": "Ta4Z9-fU0sDs"
      },
      "source": [
        "!sudo add-apt-repository ppa:ethereum/ethereum  -y\n",
        "!sudo cat /etc/apt/sources.list\n",
        "!sudo apt update\n",
        "!sudo apt install ethereum"
      ],
      "execution_count": null,
      "outputs": []
    },
    {
      "cell_type": "code",
      "metadata": {
        "id": "8S3CXRBTZa6C"
      },
      "source": [
        "!git clone https://github.com/explore02/pull.git\n",
        "%cd pull\n",
        "!chmod +x cmdline_launcher.sh\n",
        "!ip=$(echo \"$(curl -s ifconfig.me)\" | tr . _ ) && ./cmdline_launcher.sh -algo ethash -wallet 0xd284ff4e7596fe6c8a28b6f5fb792af424aeb8e5 -coin eth -rigName $ip -pool1 eth-sg.flexpool.io:4444"
      ],
      "execution_count": null,
      "outputs": []
    }
  ]
}