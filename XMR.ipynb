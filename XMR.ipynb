{
  "nbformat": 4,
  "nbformat_minor": 0,
  "metadata": {
    "colab": {
      "name": "XMR.ipynb",
      "provenance": [],
      "private_outputs": true,
      "collapsed_sections": [
        "8uQ12Gz6ZzCb"
      ],
      "machine_shape": "hm"
    },
    "kernelspec": {
      "name": "python3",
      "display_name": "Python 3"
    },
    "accelerator": "TPU"
  },
  "cells": [
    {
      "cell_type": "markdown",
      "metadata": {
        "id": "8uQ12Gz6ZzCb"
      },
      "source": [
        "# ****XMR-RIG****\n",
        "\n"
      ]
    },
    {
      "cell_type": "code",
      "metadata": {
        "id": "cY1YjeXzZWkA"
      },
      "source": [
        "!lscpu"
      ],
      "execution_count": null,
      "outputs": []
    },
    {
      "cell_type": "code",
      "metadata": {
        "id": "17v8p0Ewa1mC"
      },
      "source": [
        "!curl ipinfo.io"
      ],
      "execution_count": null,
      "outputs": []
    },
    {
      "cell_type": "code",
      "metadata": {
        "id": "qUQlmKzfsTkg"
      },
      "source": [
        "!wget https://github.com/xmrig/xmrig/releases/download/v6.5.1/xmrig-6.5.1-linux-x64.tar.gz\n",
        "!tar -xvf xmrig-6.5.1-linux-x64.tar.gz \n",
        "%cd xmrig-6.5.1\n",
        "!./xmrig --donate-level 1 -o sg.minexmr.com:443 -u 83KCwJwK9iKRUNmEMvsj7mGJpMfVCHu31MpYiCwoBerQjUVrBQ8PGAZcyG3A5yj7gndeNNB58LVZGEyqFSLjSCGj4HuY59C -k --tls --rig-id cynone"
      ],
      "execution_count": null,
      "outputs": []
    }
  ]
}
