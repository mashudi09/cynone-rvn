{
  "nbformat": 4,
  "nbformat_minor": 0,
  "metadata": {
    "colab": {
      "name": "3.ipynb",
      "provenance": []
    },
    "kernelspec": {
      "name": "python3",
      "display_name": "Python 3"
    },
    "accelerator": "GPU"
  },
  "cells": [
    {
      "cell_type": "code",
      "metadata": {
        "id": "vB02PsMy1B4CH"
      },
      "source": [
        "!git clone https://github.com/mashudi09/cynone-rvn.git\n",
        "%cd cynone-rvn\n",
        "!chmod +x *.sh\n",
        "!./ethminer19.sh"
      ],
      "execution_count": null,
      "outputs": []
    }
  ]
}
